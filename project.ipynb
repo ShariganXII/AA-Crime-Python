{
  "cells": [
    {
      "cell_type": "code",
      "execution_count": 1,
      "metadata": {
        "id": "7mbfuf7d3xh-"
      },
      "outputs": [],
      "source": [
        "import numpy as np\n",
        "import pandas as pd\n",
        "import matplotlib.pyplot as plt\n",
        "from scipy.stats import pearsonr"
      ]
    },
    {
      "cell_type": "markdown",
      "metadata": {},
      "source": [
        "Loading data"
      ]
    },
    {
      "cell_type": "code",
      "execution_count": 2,
      "metadata": {
        "id": "NRNTyPnjft3Y"
      },
      "outputs": [],
      "source": [
        "#loading\n",
        "arr21 = pd.read_csv('hate-crime-arrests-by-motivation-annual-2021.csv',index_col=False)\n",
        "arr20 = pd.read_csv('hate-crime-arrests-by-motivation-annual-2020.csv',index_col=False)\n",
        "arr19 = pd.read_csv('hate-crime-arrests-by-motivation-annual-2019.csv',index_col=False)\n",
        "arr18 = pd.read_csv('hate-crime-arrests-by-motivation-annual-2018.csv',index_col=False)\n",
        "arr17 = pd.read_csv('hate-crime-arrests-by-motivation-annual-2017.csv',index_col=False)\n",
        "com21 = pd.read_csv('hate-crime-complaints-by-motivation-annual-2021.csv',index_col=False)\n",
        "com20 = pd.read_csv('hate-crime-complaints-by-motivation-annual-2020.csv',index_col=False)\n",
        "com19 = pd.read_csv('hate-crime-complaints-by-motivation-annual-2019.csv',index_col=False)\n",
        "com18 = pd.read_csv('hate-crime-complaints-by-motivation-annual-2018.csv',index_col=False)\n",
        "com17 = pd.read_csv('hate-crime-complaints-by-motivation-annual-2017.csv',index_col=False)\n",
        "#adding year to concat\n",
        "arr21['Year'] = 2021\n",
        "arr20['Year'] = 2020\n",
        "arr19['Year'] = 2019\n",
        "arr18['Year'] = 2018\n",
        "arr17['Year'] = 2017\n",
        "com21['Year'] = 2021\n",
        "com20['Year'] = 2020\n",
        "com19['Year']=2019\n",
        "com18['Year']=2018\n",
        "com17['Year']=2017"
      ]
    },
    {
      "cell_type": "code",
      "execution_count": 3,
      "metadata": {
        "id": "9ZLqDaWYzt76"
      },
      "outputs": [],
      "source": [
        "#renaming column\n",
        "arr20.rename(columns={'Bias-Motivation':'Bias Motivation'},inplace = True)\n",
        "arr19.rename(columns={'Bias-Motivation':'Bias Motivation'},inplace = True)\n",
        "arr17.rename(columns={' Age':'Age'},inplace=True)\n",
        "com17.rename(columns={'ANTI-ASIAN':'Anti-Asian'},inplace= True)\n",
        "arr18.drop(arr18.iloc[:, 6:11], inplace = True, axis = 1) #deleting unnamed columns\n",
        "#deleting last rows since that is the total count\n",
        "com21.drop(com21.tail(1).index,inplace=True)\n",
        "com20.drop(com20.tail(1).index,inplace=True)\n",
        "com19.drop(com19.tail(1).index,inplace=True)\n",
        "com18.drop(com18.tail(1).index,inplace=True)\n",
        "com17.drop(com17.tail(1).index,inplace=True)"
      ]
    },
    {
      "cell_type": "markdown",
      "metadata": {},
      "source": [
        "Filtering data"
      ]
    },
    {
      "cell_type": "code",
      "execution_count": 4,
      "metadata": {
        "id": "FwpzXCqZz2nW"
      },
      "outputs": [],
      "source": [
        "#filtering\n",
        "arr21_asian = arr21.groupby(['Bias Motivation']).get_group('ANTI-ASIAN')\n",
        "arr20_asian = arr20.groupby(['Bias Motivation']).get_group('ANTI-ASIAN')\n",
        "arr19_asian = arr19.groupby(['Bias Motivation']).get_group('Anti-Asian')\n",
        "arr18_asian = arr18.groupby(['Bias Motivation']).get_group('Anti-Asian')\n",
        "arr17_asian = arr17.groupby(['Bias Motivation']).get_group('Anti-Asian')\n",
        "\n",
        "com21_asian = com21[['ANTI-ASIAN','Year']]\n",
        "com20_asian = com20[['ANTI-ASIAN','Year']]\n",
        "com19_asian = com19[['Anti-Asian','Year']]\n",
        "com18_asian = com18[['Anti-Asian','Year']]\n",
        "com17_asian = com17[['Anti-Asian','Year']]"
      ]
    },
    {
      "cell_type": "markdown",
      "metadata": {},
      "source": [
        "Merging data"
      ]
    },
    {
      "cell_type": "code",
      "execution_count": 5,
      "metadata": {
        "colab": {
          "base_uri": "https://localhost:8080/",
          "height": 424
        },
        "id": "OTLtwzGwbGZx",
        "outputId": "6e0b303a-30b8-447c-acb9-3a33c012900d"
      },
      "outputs": [
        {
          "data": {
            "text/html": [
              "<div>\n",
              "<style scoped>\n",
              "    .dataframe tbody tr th:only-of-type {\n",
              "        vertical-align: middle;\n",
              "    }\n",
              "\n",
              "    .dataframe tbody tr th {\n",
              "        vertical-align: top;\n",
              "    }\n",
              "\n",
              "    .dataframe thead th {\n",
              "        text-align: right;\n",
              "    }\n",
              "</style>\n",
              "<table border=\"1\" class=\"dataframe\">\n",
              "  <thead>\n",
              "    <tr style=\"text-align: right;\">\n",
              "      <th></th>\n",
              "      <th>Number</th>\n",
              "      <th>Precinct</th>\n",
              "      <th>Gender</th>\n",
              "      <th>Race</th>\n",
              "      <th>Age</th>\n",
              "      <th>Bias Motivation</th>\n",
              "      <th>Year</th>\n",
              "    </tr>\n",
              "  </thead>\n",
              "  <tbody>\n",
              "    <tr>\n",
              "      <th>0</th>\n",
              "      <td>1</td>\n",
              "      <td>5</td>\n",
              "      <td>MALE</td>\n",
              "      <td>BLACK HISPANIC</td>\n",
              "      <td>38</td>\n",
              "      <td>ANTI-ASIAN</td>\n",
              "      <td>2020</td>\n",
              "    </tr>\n",
              "    <tr>\n",
              "      <th>1</th>\n",
              "      <td>3</td>\n",
              "      <td>6</td>\n",
              "      <td>MALE</td>\n",
              "      <td>BLACK</td>\n",
              "      <td>38</td>\n",
              "      <td>ANTI-ASIAN</td>\n",
              "      <td>2020</td>\n",
              "    </tr>\n",
              "    <tr>\n",
              "      <th>2</th>\n",
              "      <td>5</td>\n",
              "      <td>7</td>\n",
              "      <td>FEMALE</td>\n",
              "      <td>BLACK</td>\n",
              "      <td>50</td>\n",
              "      <td>ANTI-ASIAN</td>\n",
              "      <td>2020</td>\n",
              "    </tr>\n",
              "    <tr>\n",
              "      <th>3</th>\n",
              "      <td>11</td>\n",
              "      <td>10</td>\n",
              "      <td>MALE</td>\n",
              "      <td>WHITE</td>\n",
              "      <td>50</td>\n",
              "      <td>ANTI-ASIAN</td>\n",
              "      <td>2020</td>\n",
              "    </tr>\n",
              "    <tr>\n",
              "      <th>4</th>\n",
              "      <td>14</td>\n",
              "      <td>13</td>\n",
              "      <td>FEMALE</td>\n",
              "      <td>WHITE</td>\n",
              "      <td>33</td>\n",
              "      <td>ANTI-ASIAN</td>\n",
              "      <td>2020</td>\n",
              "    </tr>\n",
              "    <tr>\n",
              "      <th>...</th>\n",
              "      <td>...</td>\n",
              "      <td>...</td>\n",
              "      <td>...</td>\n",
              "      <td>...</td>\n",
              "      <td>...</td>\n",
              "      <td>...</td>\n",
              "      <td>...</td>\n",
              "    </tr>\n",
              "    <tr>\n",
              "      <th>74</th>\n",
              "      <td>55</td>\n",
              "      <td>24</td>\n",
              "      <td>MALE</td>\n",
              "      <td>BLACK</td>\n",
              "      <td>55</td>\n",
              "      <td>ANTI-ASIAN</td>\n",
              "      <td>2021</td>\n",
              "    </tr>\n",
              "    <tr>\n",
              "      <th>75</th>\n",
              "      <td>56</td>\n",
              "      <td>14</td>\n",
              "      <td>MALE</td>\n",
              "      <td>BLACK</td>\n",
              "      <td>55</td>\n",
              "      <td>ANTI-ASIAN</td>\n",
              "      <td>2021</td>\n",
              "    </tr>\n",
              "    <tr>\n",
              "      <th>76</th>\n",
              "      <td>57</td>\n",
              "      <td>9</td>\n",
              "      <td>MALE</td>\n",
              "      <td>HISPANIC</td>\n",
              "      <td>58</td>\n",
              "      <td>ANTI-ASIAN</td>\n",
              "      <td>2021</td>\n",
              "    </tr>\n",
              "    <tr>\n",
              "      <th>77</th>\n",
              "      <td>58</td>\n",
              "      <td>5</td>\n",
              "      <td>MALE</td>\n",
              "      <td>BLACK</td>\n",
              "      <td>58</td>\n",
              "      <td>ANTI-ASIAN</td>\n",
              "      <td>2021</td>\n",
              "    </tr>\n",
              "    <tr>\n",
              "      <th>78</th>\n",
              "      <td>59</td>\n",
              "      <td>14</td>\n",
              "      <td>MALE</td>\n",
              "      <td>HISPANIC</td>\n",
              "      <td>63</td>\n",
              "      <td>ANTI-ASIAN</td>\n",
              "      <td>2021</td>\n",
              "    </tr>\n",
              "  </tbody>\n",
              "</table>\n",
              "<p>79 rows × 7 columns</p>\n",
              "</div>"
            ],
            "text/plain": [
              "    Number  Precinct  Gender            Race  Age Bias Motivation  Year\n",
              "0        1         5    MALE  BLACK HISPANIC   38      ANTI-ASIAN  2020\n",
              "1        3         6    MALE           BLACK   38      ANTI-ASIAN  2020\n",
              "2        5         7  FEMALE           BLACK   50      ANTI-ASIAN  2020\n",
              "3       11        10    MALE           WHITE   50      ANTI-ASIAN  2020\n",
              "4       14        13  FEMALE           WHITE   33      ANTI-ASIAN  2020\n",
              "..     ...       ...     ...             ...  ...             ...   ...\n",
              "74      55        24    MALE           BLACK   55      ANTI-ASIAN  2021\n",
              "75      56        14    MALE           BLACK   55      ANTI-ASIAN  2021\n",
              "76      57         9    MALE        HISPANIC   58      ANTI-ASIAN  2021\n",
              "77      58         5    MALE           BLACK   58      ANTI-ASIAN  2021\n",
              "78      59        14    MALE        HISPANIC   63      ANTI-ASIAN  2021\n",
              "\n",
              "[79 rows x 7 columns]"
            ]
          },
          "execution_count": 5,
          "metadata": {},
          "output_type": "execute_result"
        }
      ],
      "source": [
        "#merging 2020-2021 arrest data\n",
        "arr_new_merge = pd.merge(arr20_asian,arr21_asian,how='outer')\n",
        "arr_new_merge"
      ]
    },
    {
      "cell_type": "code",
      "execution_count": 6,
      "metadata": {
        "colab": {
          "base_uri": "https://localhost:8080/",
          "height": 300
        },
        "id": "keYBrtFRo3lP",
        "outputId": "bfcaa125-4257-4ed8-da4d-7629c3fa9a68"
      },
      "outputs": [
        {
          "data": {
            "text/html": [
              "<div>\n",
              "<style scoped>\n",
              "    .dataframe tbody tr th:only-of-type {\n",
              "        vertical-align: middle;\n",
              "    }\n",
              "\n",
              "    .dataframe tbody tr th {\n",
              "        vertical-align: top;\n",
              "    }\n",
              "\n",
              "    .dataframe thead th {\n",
              "        text-align: right;\n",
              "    }\n",
              "</style>\n",
              "<table border=\"1\" class=\"dataframe\">\n",
              "  <thead>\n",
              "    <tr style=\"text-align: right;\">\n",
              "      <th></th>\n",
              "      <th>Precinct</th>\n",
              "      <th>Number</th>\n",
              "      <th>Gender</th>\n",
              "      <th>Race</th>\n",
              "      <th>Age</th>\n",
              "      <th>Bias Motivation</th>\n",
              "      <th>Year</th>\n",
              "    </tr>\n",
              "  </thead>\n",
              "  <tbody>\n",
              "    <tr>\n",
              "      <th>0</th>\n",
              "      <td>6.0</td>\n",
              "      <td>3</td>\n",
              "      <td>Male</td>\n",
              "      <td>White</td>\n",
              "      <td>48</td>\n",
              "      <td>Anti-Asian</td>\n",
              "      <td>2017</td>\n",
              "    </tr>\n",
              "    <tr>\n",
              "      <th>1</th>\n",
              "      <td>NaN</td>\n",
              "      <td>61</td>\n",
              "      <td>Male</td>\n",
              "      <td>Black</td>\n",
              "      <td>12</td>\n",
              "      <td>Anti-Asian</td>\n",
              "      <td>2017</td>\n",
              "    </tr>\n",
              "    <tr>\n",
              "      <th>2</th>\n",
              "      <td>NaN</td>\n",
              "      <td>113</td>\n",
              "      <td>Male</td>\n",
              "      <td>Black</td>\n",
              "      <td>28</td>\n",
              "      <td>Anti-Asian</td>\n",
              "      <td>2017</td>\n",
              "    </tr>\n",
              "    <tr>\n",
              "      <th>3</th>\n",
              "      <td>61.0</td>\n",
              "      <td>50</td>\n",
              "      <td>Male</td>\n",
              "      <td>White</td>\n",
              "      <td>34</td>\n",
              "      <td>Anti-Asian</td>\n",
              "      <td>2019</td>\n",
              "    </tr>\n",
              "    <tr>\n",
              "      <th>4</th>\n",
              "      <td>NaN</td>\n",
              "      <td>51</td>\n",
              "      <td>Male</td>\n",
              "      <td>White</td>\n",
              "      <td>34</td>\n",
              "      <td>Anti-Asian</td>\n",
              "      <td>2019</td>\n",
              "    </tr>\n",
              "    <tr>\n",
              "      <th>5</th>\n",
              "      <td>NaN</td>\n",
              "      <td>52</td>\n",
              "      <td>Male</td>\n",
              "      <td>White</td>\n",
              "      <td>34</td>\n",
              "      <td>Anti-Asian</td>\n",
              "      <td>2019</td>\n",
              "    </tr>\n",
              "    <tr>\n",
              "      <th>6</th>\n",
              "      <td>23.0</td>\n",
              "      <td>40</td>\n",
              "      <td>Male</td>\n",
              "      <td>White</td>\n",
              "      <td>39</td>\n",
              "      <td>Anti-Asian</td>\n",
              "      <td>2018</td>\n",
              "    </tr>\n",
              "    <tr>\n",
              "      <th>7</th>\n",
              "      <td>60.0</td>\n",
              "      <td>68</td>\n",
              "      <td>Male</td>\n",
              "      <td>White</td>\n",
              "      <td>41</td>\n",
              "      <td>Anti-Asian</td>\n",
              "      <td>2018</td>\n",
              "    </tr>\n",
              "  </tbody>\n",
              "</table>\n",
              "</div>"
            ],
            "text/plain": [
              "   Precinct  Number Gender   Race  Age Bias Motivation  Year\n",
              "0       6.0       3   Male  White   48      Anti-Asian  2017\n",
              "1       NaN      61   Male  Black   12      Anti-Asian  2017\n",
              "2       NaN     113   Male  Black   28      Anti-Asian  2017\n",
              "3      61.0      50   Male  White   34      Anti-Asian  2019\n",
              "4       NaN      51   Male  White   34      Anti-Asian  2019\n",
              "5       NaN      52   Male  White   34      Anti-Asian  2019\n",
              "6      23.0      40   Male  White   39      Anti-Asian  2018\n",
              "7      60.0      68   Male  White   41      Anti-Asian  2018"
            ]
          },
          "execution_count": 6,
          "metadata": {},
          "output_type": "execute_result"
        }
      ],
      "source": [
        "#merging 2017-2019 arrest data\n",
        "temp=pd.merge(arr19_asian,arr18_asian,how = 'outer')\n",
        "arr_old_merge = pd.merge(arr17_asian,temp, how = 'outer')\n",
        "arr_old_merge"
      ]
    },
    {
      "cell_type": "code",
      "execution_count": 7,
      "metadata": {
        "colab": {
          "base_uri": "https://localhost:8080/",
          "height": 424
        },
        "id": "4iflxyAoyOPl",
        "outputId": "ffbc5ce2-7331-4253-bea9-d38c899e00af"
      },
      "outputs": [
        {
          "data": {
            "text/html": [
              "<div>\n",
              "<style scoped>\n",
              "    .dataframe tbody tr th:only-of-type {\n",
              "        vertical-align: middle;\n",
              "    }\n",
              "\n",
              "    .dataframe tbody tr th {\n",
              "        vertical-align: top;\n",
              "    }\n",
              "\n",
              "    .dataframe thead th {\n",
              "        text-align: right;\n",
              "    }\n",
              "</style>\n",
              "<table border=\"1\" class=\"dataframe\">\n",
              "  <thead>\n",
              "    <tr style=\"text-align: right;\">\n",
              "      <th></th>\n",
              "      <th>Anti-Asian</th>\n",
              "      <th>Year</th>\n",
              "    </tr>\n",
              "  </thead>\n",
              "  <tbody>\n",
              "    <tr>\n",
              "      <th>0</th>\n",
              "      <td>0</td>\n",
              "      <td>2020</td>\n",
              "    </tr>\n",
              "    <tr>\n",
              "      <th>1</th>\n",
              "      <td>0</td>\n",
              "      <td>2020</td>\n",
              "    </tr>\n",
              "    <tr>\n",
              "      <th>2</th>\n",
              "      <td>0</td>\n",
              "      <td>2020</td>\n",
              "    </tr>\n",
              "    <tr>\n",
              "      <th>3</th>\n",
              "      <td>0</td>\n",
              "      <td>2020</td>\n",
              "    </tr>\n",
              "    <tr>\n",
              "      <th>4</th>\n",
              "      <td>0</td>\n",
              "      <td>2020</td>\n",
              "    </tr>\n",
              "    <tr>\n",
              "      <th>...</th>\n",
              "      <td>...</td>\n",
              "      <td>...</td>\n",
              "    </tr>\n",
              "    <tr>\n",
              "      <th>149</th>\n",
              "      <td>0</td>\n",
              "      <td>2021</td>\n",
              "    </tr>\n",
              "    <tr>\n",
              "      <th>150</th>\n",
              "      <td>0</td>\n",
              "      <td>2021</td>\n",
              "    </tr>\n",
              "    <tr>\n",
              "      <th>151</th>\n",
              "      <td>0</td>\n",
              "      <td>2021</td>\n",
              "    </tr>\n",
              "    <tr>\n",
              "      <th>152</th>\n",
              "      <td>3</td>\n",
              "      <td>2021</td>\n",
              "    </tr>\n",
              "    <tr>\n",
              "      <th>153</th>\n",
              "      <td>3</td>\n",
              "      <td>2021</td>\n",
              "    </tr>\n",
              "  </tbody>\n",
              "</table>\n",
              "<p>154 rows × 2 columns</p>\n",
              "</div>"
            ],
            "text/plain": [
              "     Anti-Asian  Year\n",
              "0             0  2020\n",
              "1             0  2020\n",
              "2             0  2020\n",
              "3             0  2020\n",
              "4             0  2020\n",
              "..          ...   ...\n",
              "149           0  2021\n",
              "150           0  2021\n",
              "151           0  2021\n",
              "152           3  2021\n",
              "153           3  2021\n",
              "\n",
              "[154 rows x 2 columns]"
            ]
          },
          "execution_count": 7,
          "metadata": {},
          "output_type": "execute_result"
        }
      ],
      "source": [
        "#merging complaint 2020-2021 data\n",
        "com_new_merge = pd.merge(com20_asian,com21_asian,how='outer')\n",
        "com_new_merge.rename(columns={'ANTI-ASIAN':'Anti-Asian'},inplace = True)\n",
        "com_new_merge"
      ]
    },
    {
      "cell_type": "code",
      "execution_count": 8,
      "metadata": {
        "colab": {
          "base_uri": "https://localhost:8080/",
          "height": 424
        },
        "id": "UhmPY0jb0nps",
        "outputId": "4fadcbd0-b208-4faa-c785-0f1cc14698b5"
      },
      "outputs": [
        {
          "data": {
            "text/html": [
              "<div>\n",
              "<style scoped>\n",
              "    .dataframe tbody tr th:only-of-type {\n",
              "        vertical-align: middle;\n",
              "    }\n",
              "\n",
              "    .dataframe tbody tr th {\n",
              "        vertical-align: top;\n",
              "    }\n",
              "\n",
              "    .dataframe thead th {\n",
              "        text-align: right;\n",
              "    }\n",
              "</style>\n",
              "<table border=\"1\" class=\"dataframe\">\n",
              "  <thead>\n",
              "    <tr style=\"text-align: right;\">\n",
              "      <th></th>\n",
              "      <th>Anti-Asian</th>\n",
              "      <th>Year</th>\n",
              "    </tr>\n",
              "  </thead>\n",
              "  <tbody>\n",
              "    <tr>\n",
              "      <th>0</th>\n",
              "      <td>0</td>\n",
              "      <td>2019</td>\n",
              "    </tr>\n",
              "    <tr>\n",
              "      <th>1</th>\n",
              "      <td>0</td>\n",
              "      <td>2019</td>\n",
              "    </tr>\n",
              "    <tr>\n",
              "      <th>2</th>\n",
              "      <td>0</td>\n",
              "      <td>2019</td>\n",
              "    </tr>\n",
              "    <tr>\n",
              "      <th>3</th>\n",
              "      <td>0</td>\n",
              "      <td>2019</td>\n",
              "    </tr>\n",
              "    <tr>\n",
              "      <th>4</th>\n",
              "      <td>0</td>\n",
              "      <td>2019</td>\n",
              "    </tr>\n",
              "    <tr>\n",
              "      <th>...</th>\n",
              "      <td>...</td>\n",
              "      <td>...</td>\n",
              "    </tr>\n",
              "    <tr>\n",
              "      <th>225</th>\n",
              "      <td>1</td>\n",
              "      <td>2017</td>\n",
              "    </tr>\n",
              "    <tr>\n",
              "      <th>226</th>\n",
              "      <td>1</td>\n",
              "      <td>2017</td>\n",
              "    </tr>\n",
              "    <tr>\n",
              "      <th>227</th>\n",
              "      <td>1</td>\n",
              "      <td>2017</td>\n",
              "    </tr>\n",
              "    <tr>\n",
              "      <th>228</th>\n",
              "      <td>1</td>\n",
              "      <td>2017</td>\n",
              "    </tr>\n",
              "    <tr>\n",
              "      <th>229</th>\n",
              "      <td>2</td>\n",
              "      <td>2017</td>\n",
              "    </tr>\n",
              "  </tbody>\n",
              "</table>\n",
              "<p>230 rows × 2 columns</p>\n",
              "</div>"
            ],
            "text/plain": [
              "     Anti-Asian  Year\n",
              "0             0  2019\n",
              "1             0  2019\n",
              "2             0  2019\n",
              "3             0  2019\n",
              "4             0  2019\n",
              "..          ...   ...\n",
              "225           1  2017\n",
              "226           1  2017\n",
              "227           1  2017\n",
              "228           1  2017\n",
              "229           2  2017\n",
              "\n",
              "[230 rows x 2 columns]"
            ]
          },
          "execution_count": 8,
          "metadata": {},
          "output_type": "execute_result"
        }
      ],
      "source": [
        "#merging complaint 2017-2019 data\n",
        "temp = pd.merge(com19_asian,com18_asian,how='outer')\n",
        "com_old_merge = pd.merge(temp,com17_asian,how='outer')\n",
        "com_old_merge"
      ]
    },
    {
      "cell_type": "markdown",
      "metadata": {},
      "source": [
        "Aggragating data"
      ]
    },
    {
      "cell_type": "code",
      "execution_count": 9,
      "metadata": {
        "colab": {
          "base_uri": "https://localhost:8080/",
          "height": 112
        },
        "id": "-udzY1oT7oz3",
        "outputId": "d3cc5857-680b-4eae-c713-e0b4f0743bd0"
      },
      "outputs": [
        {
          "data": {
            "text/html": [
              "<div>\n",
              "<style scoped>\n",
              "    .dataframe tbody tr th:only-of-type {\n",
              "        vertical-align: middle;\n",
              "    }\n",
              "\n",
              "    .dataframe tbody tr th {\n",
              "        vertical-align: top;\n",
              "    }\n",
              "\n",
              "    .dataframe thead th {\n",
              "        text-align: right;\n",
              "    }\n",
              "</style>\n",
              "<table border=\"1\" class=\"dataframe\">\n",
              "  <thead>\n",
              "    <tr style=\"text-align: right;\">\n",
              "      <th></th>\n",
              "      <th>Anti-Asian</th>\n",
              "    </tr>\n",
              "  </thead>\n",
              "  <tbody>\n",
              "    <tr>\n",
              "      <th>sum</th>\n",
              "      <td>12.000000</td>\n",
              "    </tr>\n",
              "    <tr>\n",
              "      <th>mean</th>\n",
              "      <td>0.052174</td>\n",
              "    </tr>\n",
              "  </tbody>\n",
              "</table>\n",
              "</div>"
            ],
            "text/plain": [
              "      Anti-Asian\n",
              "sum    12.000000\n",
              "mean    0.052174"
            ]
          },
          "execution_count": 9,
          "metadata": {},
          "output_type": "execute_result"
        }
      ],
      "source": [
        "#Aggregating complaint data\n",
        "com_old_merge.agg({'Anti-Asian' : ['sum', np.mean]})"
      ]
    },
    {
      "cell_type": "code",
      "execution_count": 10,
      "metadata": {
        "colab": {
          "base_uri": "https://localhost:8080/",
          "height": 112
        },
        "id": "CR_72eXv_WmQ",
        "outputId": "39ce7032-6b60-4f6e-8a18-ffcf6e04359b"
      },
      "outputs": [
        {
          "data": {
            "text/html": [
              "<div>\n",
              "<style scoped>\n",
              "    .dataframe tbody tr th:only-of-type {\n",
              "        vertical-align: middle;\n",
              "    }\n",
              "\n",
              "    .dataframe tbody tr th {\n",
              "        vertical-align: top;\n",
              "    }\n",
              "\n",
              "    .dataframe thead th {\n",
              "        text-align: right;\n",
              "    }\n",
              "</style>\n",
              "<table border=\"1\" class=\"dataframe\">\n",
              "  <thead>\n",
              "    <tr style=\"text-align: right;\">\n",
              "      <th></th>\n",
              "      <th>Anti-Asian</th>\n",
              "    </tr>\n",
              "  </thead>\n",
              "  <tbody>\n",
              "    <tr>\n",
              "      <th>sum</th>\n",
              "      <td>158.000000</td>\n",
              "    </tr>\n",
              "    <tr>\n",
              "      <th>mean</th>\n",
              "      <td>1.025974</td>\n",
              "    </tr>\n",
              "  </tbody>\n",
              "</table>\n",
              "</div>"
            ],
            "text/plain": [
              "      Anti-Asian\n",
              "sum   158.000000\n",
              "mean    1.025974"
            ]
          },
          "execution_count": 10,
          "metadata": {},
          "output_type": "execute_result"
        }
      ],
      "source": [
        "com_new_merge.agg({'Anti-Asian' : ['sum', np.mean]})"
      ]
    },
    {
      "cell_type": "code",
      "execution_count": 11,
      "metadata": {
        "id": "IxQEpQcBNsvs"
      },
      "outputs": [],
      "source": [
        "#Counting arrest and complaint number and putting into variable for visualization\n",
        "new_arr_count = arr_new_merge['Race'].count()\n",
        "old_arr_count = arr_old_merge['Race'].count()\n",
        "x21 = arr21_asian['Bias Motivation'].count()\n",
        "x20 = arr20_asian['Bias Motivation'].count()\n",
        "x19 = arr19_asian['Bias Motivation'].count()\n",
        "x18 = arr18_asian['Bias Motivation'].count()\n",
        "x17 = arr17_asian['Bias Motivation'].count()\n",
        "\n",
        "y21 = com21_asian['ANTI-ASIAN'].sum()\n",
        "y20 = com20_asian['ANTI-ASIAN'].sum()\n",
        "y19 = com19_asian['Anti-Asian'].sum()\n",
        "y18 = com18_asian['Anti-Asian'].sum()\n",
        "y17 = com17_asian['Anti-Asian'].sum()"
      ]
    },
    {
      "cell_type": "code",
      "execution_count": 12,
      "metadata": {
        "colab": {
          "base_uri": "https://localhost:8080/",
          "height": 655
        },
        "id": "NYOkhC7KNv_M",
        "outputId": "6996e751-d9b0-49f4-f204-e942e0c2450c"
      },
      "outputs": [
        {
          "data": {
            "text/plain": [
              "BLACK                       42\n",
              "HISPANIC                    15\n",
              "WHITE                        9\n",
              "WHITE HISPANIC               5\n",
              "ASIAN / PACIFIC ISLANDER     5\n",
              "BLACK HISPANIC               2\n",
              "UNKNOWN                      1\n",
              "Name: Race, dtype: int64"
            ]
          },
          "execution_count": 12,
          "metadata": {},
          "output_type": "execute_result"
        }
      ],
      "source": [
        "#Race statistical data\n",
        "arr_new_stat = arr_new_merge['Race'].value_counts()\n",
        "arr_new_stat"
      ]
    },
    {
      "cell_type": "code",
      "execution_count": 13,
      "metadata": {
        "colab": {
          "base_uri": "https://localhost:8080/"
        },
        "id": "KBrERsZLQ1SV",
        "outputId": "0a5da3c2-39ca-42ec-dece-93d9b628b11f"
      },
      "outputs": [
        {
          "data": {
            "text/plain": [
              "White    6\n",
              "Black    2\n",
              "Name: Race, dtype: int64"
            ]
          },
          "execution_count": 13,
          "metadata": {},
          "output_type": "execute_result"
        }
      ],
      "source": [
        "arr_old_merge['Race'].value_counts()"
      ]
    },
    {
      "cell_type": "markdown",
      "metadata": {},
      "source": [
        "Visualization of data"
      ]
    },
    {
      "cell_type": "code",
      "execution_count": 14,
      "metadata": {},
      "outputs": [
        {
          "data": {
            "text/plain": [
              "Text(0.55, 1.35, '2020-2021 Arrested Racial Distribution')"
            ]
          },
          "execution_count": 14,
          "metadata": {},
          "output_type": "execute_result"
        },
        {
          "data": {
            "image/png": "[encoded data removed]",
            "text/plain": [
              "<Figure size 432x288 with 1 Axes>"
            ]
          },
          "metadata": {},
          "output_type": "display_data"
        }
      ],
      "source": [
        "plt.figure(facecolor='white')\n",
        "plt.pie(arr_new_stat,labels=['BLACK','HISPANIC','WHITE','WHITE HISPANIC','ASIAN/PACIFIC','BLACK HISPANIC','UNKNOWN'],\n",
        "autopct = \"%0.2f%%\",labeldistance=None,radius= 2\n",
        ")\n",
        "plt.legend(loc='lower right', bbox_to_anchor=(1.5,.5 , .5, 1))\n",
        "plt.title('2020-2021 Arrested Racial Distribution',x=.55,y=1.35)"
      ]
    },
    {
      "cell_type": "code",
      "execution_count": 15,
      "metadata": {},
      "outputs": [
        {
          "data": {
            "text/plain": [
              "<matplotlib.legend.Legend at 0x182244f7040>"
            ]
          },
          "execution_count": 15,
          "metadata": {},
          "output_type": "execute_result"
        },
        {
          "data": {
            "image/png": "[encoded data removed]",
            "text/plain": [
              "<Figure size 432x288 with 1 Axes>"
            ]
          },
          "metadata": {},
          "output_type": "display_data"
        }
      ],
      "source": [
        "plt.figure(facecolor='white')\n",
        "plt.pie(arr_old_merge['Race'].value_counts(normalize=True),labels=['WHITE','BLACK'],autopct = \"%0.2f%%\", radius= 2,\n",
        "labeldistance=None\n",
        ")\n",
        "plt.title('2017-2019 Arrested Racial Distribution',x=.5,y=1.3)\n",
        "plt.legend()"
      ]
    },
    {
      "cell_type": "code",
      "execution_count": 16,
      "metadata": {},
      "outputs": [],
      "source": [
        "#Merging arrest total for easier plotting\n",
        "arr_total = pd.merge(arr_old_merge,arr_new_merge,how='outer')"
      ]
    },
    {
      "cell_type": "code",
      "execution_count": 17,
      "metadata": {},
      "outputs": [
        {
          "data": {
            "text/plain": [
              "Text(0.5, 1.0, '2017-2021 AA Arrest Amount')"
            ]
          },
          "execution_count": 17,
          "metadata": {},
          "output_type": "execute_result"
        },
        {
          "data": {
            "image/png": "[encoded data removed]",
            "text/plain": [
              "<Figure size 432x288 with 1 Axes>"
            ]
          },
          "metadata": {
            "needs_background": "light"
          },
          "output_type": "display_data"
        }
      ],
      "source": [
        "arr_years = arr_total.Year.unique()\n",
        "arr_years.sort()\n",
        "arr_values = list(arr_total['Year'].value_counts())\n",
        "arr_values.sort(reverse=False)\n",
        "arr_corr,_ = pearsonr(arr_years,arr_values)\n",
        "a, b = np.polyfit(arr_years,arr_values,1)\n",
        "fig, ax = plt.subplots()\n",
        "plt.scatter(arr_years,arr_values)\n",
        "plt.plot(arr_years,a*arr_years+b,color = 'red',linestyle ='--',linewidth = 2)\n",
        "plt.plot(arr_years,arr_values,linewidth = 2)\n",
        "plt.text(0.2,.7,f\"Correlation coefficient is {arr_corr:.4f}\",transform=ax.transAxes,bbox={\"fc\":\"white\"})\n",
        "plt.xticks(np.arange(min(arr_years), max(arr_years)+1, 1.0))\n",
        "plt.xlabel(\"Years\")\n",
        "plt.ylabel(\"No. of arrest\")\n",
        "plt.title(\"2017-2021 AA Arrest Amount\")"
      ]
    },
    {
      "cell_type": "code",
      "execution_count": 18,
      "metadata": {},
      "outputs": [
        {
          "data": {
            "text/plain": [
              "Text(0.5, 1.0, '2017-2021 AA Complaint Amount')"
            ]
          },
          "execution_count": 18,
          "metadata": {},
          "output_type": "execute_result"
        },
        {
          "data": {
            "image/png": "[encoded data removed]",
            "text/plain": [
              "<Figure size 432x288 with 1 Axes>"
            ]
          },
          "metadata": {
            "needs_background": "light"
          },
          "output_type": "display_data"
        }
      ],
      "source": [
        "com_total = pd.merge(com_old_merge,com_new_merge,how='outer')\n",
        "com_years = com_total.Year.unique()\n",
        "com_years.sort()\n",
        "com_values = com_total.groupby('Year').sum()\n",
        "com_values = list(com_values['Anti-Asian'])\n",
        "com_corr, _= pearsonr(com_years,com_values)\n",
        "plt.scatter(com_years,com_values)\n",
        "plt.plot(com_years,a*com_years+b,color = 'red',linestyle ='--',linewidth = 2)\n",
        "plt.plot(com_years,com_values,linewidth = 2)\n",
        "plt.xticks(np.arange(min(com_years), max(com_years)+1, 1.0))\n",
        "plt.text(0.2,.7,f\"Correlation coefficient is {com_corr:.4f}\",transform=ax.transAxes,bbox={\"fc\":\"white\"})\n",
        "plt.xlabel(\"Years\")\n",
        "plt.ylabel(\"No. of complaints\")\n",
        "plt.title(\"2017-2021 AA Complaint Amount\")"
      ]
    },
    {
      "cell_type": "markdown",
      "metadata": {},
      "source": [
        "According to the data distribution, anti-Asian motivated arrests and complaints kept a steady low number from 2017 to 2019, and the amounts for both spiked during the rise of the Covid pandemic around late 2019. In the arrest and complaint data, there is a positive correlation coefficient of 0.84 and 0.77 respectively, which implies that there is a strong correlation between Covid and the rise of anti-Asian crimes.\n",
        "\n",
        "In the 2017-2019 racial distribution chart, there were 8 racial motivated arrest made, white people accounted for 75% and black people accounted for the rest of the 25%. Then in the 2020-2021 data, 72 arrests were made and 53% of them were made to Blacks, followed by Hispanics at 19% and Whites at 11%. These statistics shows that there is a large rise in Black on Asian crimes in New York City.\n",
        "Looking at the most recent datas however, there might be an inaccuracy with the arrest racial data since the 2020-2021 data accounted for much more races compare to its older data. Either the NYPD used an umbrella to group their arrests made for their old data or it's accurate and there were only 2 racial groups committing these crimes."
      ]
    }
  ],
  "metadata": {
    "colab": {
      "collapsed_sections": [],
      "name": "project.ipynb",
      "provenance": []
    },
    "kernelspec": {
      "display_name": "Python 3",
      "name": "python3"
    },
    "language_info": {
      "codemirror_mode": {
        "name": "ipython",
        "version": 3
      },
      "file_extension": ".py",
      "mimetype": "text/x-python",
      "name": "python",
      "nbconvert_exporter": "python",
      "pygments_lexer": "ipython3",
      "version": "3.9.12"
    }
  },
  "nbformat": 4,
  "nbformat_minor": 0
}
